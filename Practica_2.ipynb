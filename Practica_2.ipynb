{
  "nbformat": 4,
  "nbformat_minor": 0,
  "metadata": {
    "colab": {
      "provenance": [],
      "authorship_tag": "ABX9TyPKdFylnOG/3vjqy5TyRkNr",
      "include_colab_link": true
    },
    "kernelspec": {
      "name": "python3",
      "display_name": "Python 3"
    },
    "language_info": {
      "name": "python"
    }
  },
  "cells": [
    {
      "cell_type": "markdown",
      "metadata": {
        "id": "view-in-github",
        "colab_type": "text"
      },
      "source": [
        "<a href=\"https://colab.research.google.com/github/ValenNoble/Practica_2/blob/main/Practica_2.ipynb\" target=\"_parent\"><img src=\"https://colab.research.google.com/assets/colab-badge.svg\" alt=\"Open In Colab\"/></a>"
      ]
    },
    {
      "cell_type": "code",
      "execution_count": 1,
      "metadata": {
        "colab": {
          "base_uri": "https://localhost:8080/"
        },
        "id": "DtzA2Rk9zX6n",
        "outputId": "207958ef-5540-4838-cf84-59ce734f9d08"
      },
      "outputs": [
        {
          "output_type": "stream",
          "name": "stdout",
          "text": [
            "Cloning into 'Practica_2'...\n",
            "remote: Enumerating objects: 10, done.\u001b[K\n",
            "remote: Counting objects: 100% (10/10), done.\u001b[K\n",
            "remote: Compressing objects: 100% (7/7), done.\u001b[K\n",
            "remote: Total 10 (delta 0), reused 9 (delta 0), pack-reused 0\u001b[K\n",
            "Receiving objects: 100% (10/10), 6.02 MiB | 8.15 MiB/s, done.\n"
          ]
        }
      ],
      "source": [
        "!git clone https://github.com/ValenNoble/Practica_2.git"
      ]
    },
    {
      "cell_type": "code",
      "source": [
        "import pandas as pd\n",
        "df= pd.read_csv('/content/Practica_2/data/NISPUF17.csv')"
      ],
      "metadata": {
        "id": "qEBoYLgh2H5M"
      },
      "execution_count": 29,
      "outputs": []
    },
    {
      "cell_type": "markdown",
      "source": [
        "## **PREGUNTA 1**"
      ],
      "metadata": {
        "id": "kP_3UpqCKBuI"
      }
    },
    {
      "cell_type": "code",
      "source": [
        "total =len(df)"
      ],
      "metadata": {
        "id": "npvYrlS_J_WJ"
      },
      "execution_count": null,
      "outputs": []
    },
    {
      "cell_type": "code",
      "source": [
        "set(df['EDUC1'])"
      ],
      "metadata": {
        "colab": {
          "base_uri": "https://localhost:8080/"
        },
        "id": "WhG-5ZKOQpvh",
        "outputId": "525ab9c5-a254-45a8-f78f-910525b28f91"
      },
      "execution_count": 30,
      "outputs": [
        {
          "output_type": "execute_result",
          "data": {
            "text/plain": [
              "{1, 2, 3, 4}"
            ]
          },
          "metadata": {},
          "execution_count": 30
        }
      ]
    },
    {
      "cell_type": "markdown",
      "source": [
        "PRIMER DATO"
      ],
      "metadata": {
        "id": "ERcCpRfYRB3V"
      }
    },
    {
      "cell_type": "code",
      "source": [
        "mother_education_level_1 = df[df['EDUC1']==1]\n",
        "cant_1 = len(mother_education_level_1)\n",
        "proporcion_niños_1 = cant_1 /total\n",
        "proporcion_niños_1"
      ],
      "metadata": {
        "id": "ZZX_o09pQBDE",
        "colab": {
          "base_uri": "https://localhost:8080/"
        },
        "outputId": "2e199a88-dd62-492f-d901-c26d85eb18aa"
      },
      "execution_count": 31,
      "outputs": [
        {
          "output_type": "execute_result",
          "data": {
            "text/plain": [
              "0.10202002459160373"
            ]
          },
          "metadata": {},
          "execution_count": 31
        }
      ]
    },
    {
      "cell_type": "markdown",
      "source": [
        "SEGUNDO DATO"
      ],
      "metadata": {
        "id": "HrRT-O8ORvwU"
      }
    },
    {
      "cell_type": "code",
      "source": [
        "mother_education_level_2 = df[df['EDUC1'] == 2]\n",
        "cant_2 = len(mother_education_level_2)\n",
        "proporcion_niños_2 = cant_2 /total\n",
        "proporcion_niños_2"
      ],
      "metadata": {
        "id": "UChR9XmkR6Qe",
        "colab": {
          "base_uri": "https://localhost:8080/"
        },
        "outputId": "3bc256e7-7d4a-4339-b33a-97057e593456"
      },
      "execution_count": 8,
      "outputs": [
        {
          "output_type": "execute_result",
          "data": {
            "text/plain": [
              "0.172352011241876"
            ]
          },
          "metadata": {},
          "execution_count": 8
        }
      ]
    },
    {
      "cell_type": "markdown",
      "source": [
        "TERCER DATO"
      ],
      "metadata": {
        "id": "emsZCoMZE8_p"
      }
    },
    {
      "cell_type": "code",
      "source": [
        "mother_education_level_3 = df[df['EDUC1']==3]\n",
        "cant_3 = len(mother_education_level_3)\n",
        "proporcion_niños_3 = cant_3 /total\n",
        "proporcion_niños_3"
      ],
      "metadata": {
        "id": "KfInPqFhSrzO",
        "colab": {
          "base_uri": "https://localhost:8080/"
        },
        "outputId": "e080d1ae-0ffe-420c-ddfb-96c1390fa739"
      },
      "execution_count": 3,
      "outputs": [
        {
          "output_type": "execute_result",
          "data": {
            "text/plain": [
              "0.24588090637625154"
            ]
          },
          "metadata": {},
          "execution_count": 3
        }
      ]
    },
    {
      "cell_type": "markdown",
      "source": [
        "CUARTO DATO"
      ],
      "metadata": {
        "id": "WaksWsvAKkBE"
      }
    },
    {
      "cell_type": "code",
      "source": [
        "mother_education_level_4 = df[df['EDUC1']==4]\n",
        "cant_4 = len(mother_education_level_4)\n",
        "proporcion_niños_4 = cant_4 /total\n",
        "proporcion_niños_4"
      ],
      "metadata": {
        "id": "r_eyhzXUSuLW",
        "colab": {
          "base_uri": "https://localhost:8080/"
        },
        "outputId": "6db3f78e-480e-49ef-d021-e9ba955c76a5"
      },
      "execution_count": 4,
      "outputs": [
        {
          "output_type": "execute_result",
          "data": {
            "text/plain": [
              "0.47974705779026877"
            ]
          },
          "metadata": {},
          "execution_count": 4
        }
      ]
    },
    {
      "cell_type": "code",
      "source": [
        "# Definición del diicionario\n",
        "def proportion_of_education():\n",
        "  {\"menor que secundaria\": proporcion_niños_1,\n",
        "          \"secundaria\": proporcion_niños_2,\n",
        "          \"terciaria\": proporcion_niños_3,\n",
        "          \"graduada\": proporcion_niños_4}\n",
        "  pass\n",
        "\n",
        "proportion_of_education()"
      ],
      "metadata": {
        "id": "svgHN2DjGkQR"
      },
      "execution_count": 40,
      "outputs": []
    },
    {
      "cell_type": "markdown",
      "source": [
        "## **PREGUTNA 2**"
      ],
      "metadata": {
        "id": "IqY0vrBLWRxR"
      }
    },
    {
      "cell_type": "code",
      "source": [
        "import = pandas as pd"
      ],
      "metadata": {
        "id": "Lt5qF6bwWVcr"
      },
      "execution_count": null,
      "outputs": []
    },
    {
      "cell_type": "code",
      "source": [
        "df = pd.read_csv('/content/Practica_2/data/NISPUF17.csv')\n"
      ],
      "metadata": {
        "id": "pgrAl9yUWatV"
      },
      "execution_count": null,
      "outputs": []
    },
    {
      "cell_type": "code",
      "source": [
        "#determinamos que columna CBF_01 en su parámetro 1\n",
        "set(df['CBF_01'])"
      ],
      "metadata": {
        "colab": {
          "base_uri": "https://localhost:8080/"
        },
        "id": "vAu0sxDYYiRb",
        "outputId": "3002ac18-5fc2-44d4-ef85-28d539349698"
      },
      "execution_count": null,
      "outputs": [
        {
          "output_type": "execute_result",
          "data": {
            "text/plain": [
              "{1, 2, 77, 99}"
            ]
          },
          "metadata": {},
          "execution_count": 17
        }
      ]
    },
    {
      "cell_type": "markdown",
      "source": [
        "Recibieron leche materna"
      ],
      "metadata": {
        "id": "XhQaH4_DJFci"
      }
    },
    {
      "cell_type": "code",
      "source": [
        "dfc1 =df[df['CBF_01'] == 1]\n",
        "len(dfc1)"
      ],
      "metadata": {
        "colab": {
          "base_uri": "https://localhost:8080/"
        },
        "id": "cYL-oU7yeFdH",
        "outputId": "20842b21-b8dc-4939-e993-7762a418fb37"
      },
      "execution_count": 26,
      "outputs": [
        {
          "output_type": "execute_result",
          "data": {
            "text/plain": [
              "24261"
            ]
          },
          "metadata": {},
          "execution_count": 26
        }
      ]
    },
    {
      "cell_type": "code",
      "source": [
        "relacion_1= dfc1['P_NUMFLU'].mean()\n",
        "relacion_1"
      ],
      "metadata": {
        "colab": {
          "base_uri": "https://localhost:8080/"
        },
        "id": "z1fjL_l8Zd_Y",
        "outputId": "02c768d6-596c-49de-fcf2-671f7e94af21"
      },
      "execution_count": 36,
      "outputs": [
        {
          "output_type": "execute_result",
          "data": {
            "text/plain": [
              "1.8799187420058687"
            ]
          },
          "metadata": {},
          "execution_count": 36
        }
      ]
    },
    {
      "cell_type": "markdown",
      "source": [
        "No recibieron leche materna"
      ],
      "metadata": {
        "id": "c9K5xQeXJKgt"
      }
    },
    {
      "cell_type": "code",
      "source": [
        "dfc2 =df[df['CBF_01'] == 2]\n",
        "len(dfc2)"
      ],
      "metadata": {
        "id": "tQKuy-STJP7n"
      },
      "execution_count": null,
      "outputs": []
    },
    {
      "cell_type": "code",
      "source": [
        "relacion_2= dfc2['P_NUMFLU'].mean()\n",
        "relacion_2"
      ],
      "metadata": {
        "colab": {
          "base_uri": "https://localhost:8080/"
        },
        "id": "mifwsQh4JgXv",
        "outputId": "8fc1669f-2000-4b79-edee-6f2637ffbe7e"
      },
      "execution_count": 37,
      "outputs": [
        {
          "output_type": "execute_result",
          "data": {
            "text/plain": [
              "1.5963945918878317"
            ]
          },
          "metadata": {},
          "execution_count": 37
        }
      ]
    },
    {
      "cell_type": "code",
      "source": [
        "#Creación del diccionario\n",
        "def average_influenza_doses():\n",
        "    {\"con_leche_materna\": relacion_1,\n",
        "     \"sin_leche_materna\": relacion_2}\n",
        "    pass\n",
        "\n",
        "\n",
        "average_influenza_doses()"
      ],
      "metadata": {
        "id": "1-deAMGDLjL3"
      },
      "execution_count": 38,
      "outputs": []
    },
    {
      "cell_type": "markdown",
      "source": [
        "## **TERCERA PREGUNTA**"
      ],
      "metadata": {
        "id": "VLHQQNj8LW2D"
      }
    },
    {
      "cell_type": "code",
      "source": [
        "set(df['chickenpox'])"
      ],
      "metadata": {
        "id": "RZmUhOH_OjFR"
      },
      "execution_count": null,
      "outputs": []
    }
  ]
}