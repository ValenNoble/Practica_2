{
  "nbformat": 4,
  "nbformat_minor": 0,
  "metadata": {
    "colab": {
      "provenance": [],
      "authorship_tag": "ABX9TyOWLLohVIk53CE5AwKQewpn",
      "include_colab_link": true
    },
    "kernelspec": {
      "name": "python3",
      "display_name": "Python 3"
    },
    "language_info": {
      "name": "python"
    }
  },
  "cells": [
    {
      "cell_type": "markdown",
      "metadata": {
        "id": "view-in-github",
        "colab_type": "text"
      },
      "source": [
        "<a href=\"https://colab.research.google.com/github/ValenNoble/Practica_2/blob/main/Practica_2.ipynb\" target=\"_parent\"><img src=\"https://colab.research.google.com/assets/colab-badge.svg\" alt=\"Open In Colab\"/></a>"
      ]
    },
    {
      "cell_type": "code",
      "source": [
        "!git clone https://github.com/ValenNoble/Practica_2.git"
      ],
      "metadata": {
        "colab": {
          "base_uri": "https://localhost:8080/"
        },
        "id": "nZ9_iAyMtQ-Y",
        "outputId": "b913f90e-1e3e-4c07-b737-db15803ee8d2"
      },
      "execution_count": null,
      "outputs": [
        {
          "output_type": "stream",
          "name": "stdout",
          "text": [
            "Cloning into 'Practica_2'...\n",
            "remote: Enumerating objects: 17, done.\u001b[K\n",
            "remote: Counting objects: 100% (17/17), done.\u001b[K\n",
            "remote: Compressing objects: 100% (14/14), done.\u001b[K\n",
            "remote: Total 17 (delta 3), reused 8 (delta 0), pack-reused 0\u001b[K\n",
            "Receiving objects: 100% (17/17), 6.03 MiB | 7.70 MiB/s, done.\n",
            "Resolving deltas: 100% (3/3), done.\n"
          ]
        }
      ]
    },
    {
      "cell_type": "code",
      "source": [
        "import pandas as pd\n",
        "df= pd.read_csv('/content/Practica_2/data/NISPUF17.csv')"
      ],
      "metadata": {
        "id": "qEBoYLgh2H5M"
      },
      "execution_count": null,
      "outputs": []
    },
    {
      "cell_type": "markdown",
      "source": [
        "## **PREGUNTA 1**"
      ],
      "metadata": {
        "id": "kP_3UpqCKBuI"
      }
    },
    {
      "cell_type": "code",
      "source": [
        "total =len(df)"
      ],
      "metadata": {
        "id": "npvYrlS_J_WJ"
      },
      "execution_count": null,
      "outputs": []
    },
    {
      "cell_type": "code",
      "source": [
        "set(df['EDUC1'])"
      ],
      "metadata": {
        "colab": {
          "base_uri": "https://localhost:8080/"
        },
        "id": "WhG-5ZKOQpvh",
        "outputId": "4a7269f2-c6b0-485c-fedb-2ee6f318806c"
      },
      "execution_count": null,
      "outputs": [
        {
          "output_type": "execute_result",
          "data": {
            "text/plain": [
              "{1, 2, 3, 4}"
            ]
          },
          "metadata": {},
          "execution_count": 5
        }
      ]
    },
    {
      "cell_type": "markdown",
      "source": [
        "PRIMER DATO"
      ],
      "metadata": {
        "id": "ERcCpRfYRB3V"
      }
    },
    {
      "cell_type": "code",
      "source": [
        "mother_education_level_1 = df[df['EDUC1']==1]\n",
        "cant_1 = len(mother_education_level_1)\n",
        "proporcion_niños_1 = cant_1 /total\n",
        "proporcion_niños_1"
      ],
      "metadata": {
        "id": "ZZX_o09pQBDE",
        "colab": {
          "base_uri": "https://localhost:8080/"
        },
        "outputId": "56d178b0-86bd-4871-f534-afbac6af4bd4"
      },
      "execution_count": null,
      "outputs": [
        {
          "output_type": "execute_result",
          "data": {
            "text/plain": [
              "0.10202002459160373"
            ]
          },
          "metadata": {},
          "execution_count": 6
        }
      ]
    },
    {
      "cell_type": "markdown",
      "source": [
        "SEGUNDO DATO"
      ],
      "metadata": {
        "id": "HrRT-O8ORvwU"
      }
    },
    {
      "cell_type": "code",
      "source": [
        "mother_education_level_2 = df[df['EDUC1'] == 2]\n",
        "cant_2 = len(mother_education_level_2)\n",
        "proporcion_niños_2 = cant_2 /total\n",
        "proporcion_niños_2"
      ],
      "metadata": {
        "id": "UChR9XmkR6Qe",
        "colab": {
          "base_uri": "https://localhost:8080/"
        },
        "outputId": "3e5d8ad9-a32b-412e-f701-8d0ec3831a57"
      },
      "execution_count": null,
      "outputs": [
        {
          "output_type": "execute_result",
          "data": {
            "text/plain": [
              "0.172352011241876"
            ]
          },
          "metadata": {},
          "execution_count": 7
        }
      ]
    },
    {
      "cell_type": "markdown",
      "source": [
        "TERCER DATO"
      ],
      "metadata": {
        "id": "emsZCoMZE8_p"
      }
    },
    {
      "cell_type": "code",
      "source": [
        "mother_education_level_3 = df[df['EDUC1']==3]\n",
        "cant_3 = len(mother_education_level_3)\n",
        "proporcion_niños_3 = cant_3 /total\n",
        "proporcion_niños_3"
      ],
      "metadata": {
        "id": "KfInPqFhSrzO",
        "colab": {
          "base_uri": "https://localhost:8080/"
        },
        "outputId": "5f9adcef-6981-4680-be49-3cc27d2b5a0b"
      },
      "execution_count": null,
      "outputs": [
        {
          "output_type": "execute_result",
          "data": {
            "text/plain": [
              "0.24588090637625154"
            ]
          },
          "metadata": {},
          "execution_count": 8
        }
      ]
    },
    {
      "cell_type": "markdown",
      "source": [
        "CUARTO DATO"
      ],
      "metadata": {
        "id": "WaksWsvAKkBE"
      }
    },
    {
      "cell_type": "code",
      "source": [
        "mother_education_level_4 = df[df['EDUC1']==4]\n",
        "cant_4 = len(mother_education_level_4)\n",
        "proporcion_niños_4 = cant_4 /total\n",
        "proporcion_niños_4"
      ],
      "metadata": {
        "id": "r_eyhzXUSuLW",
        "colab": {
          "base_uri": "https://localhost:8080/"
        },
        "outputId": "9734838d-7d80-4273-95c2-0ab313b6047c"
      },
      "execution_count": null,
      "outputs": [
        {
          "output_type": "execute_result",
          "data": {
            "text/plain": [
              "0.47974705779026877"
            ]
          },
          "metadata": {},
          "execution_count": 9
        }
      ]
    },
    {
      "cell_type": "code",
      "source": [
        "# Definición del diicionario\n",
        "def proportion_of_education():\n",
        "  resultado = {\"menor que secundaria\": proporcion_niños_1,\n",
        "          \"secundaria\": proporcion_niños_2,\n",
        "          \"terciaria\": proporcion_niños_3,\n",
        "          \"graduada\": proporcion_niños_4}\n",
        "  return resultado\n",
        "\n",
        "proportion_of_education()\n"
      ],
      "metadata": {
        "id": "svgHN2DjGkQR",
        "colab": {
          "base_uri": "https://localhost:8080/"
        },
        "outputId": "30c36b33-696b-4734-b475-792d557dd0f2"
      },
      "execution_count": null,
      "outputs": [
        {
          "output_type": "execute_result",
          "data": {
            "text/plain": [
              "{'menor que secundaria': 0.10202002459160373,\n",
              " 'secundaria': 0.172352011241876,\n",
              " 'terciaria': 0.24588090637625154,\n",
              " 'graduada': 0.47974705779026877}"
            ]
          },
          "metadata": {},
          "execution_count": 10
        }
      ]
    },
    {
      "cell_type": "markdown",
      "source": [
        "## **PREGUTNA 2**"
      ],
      "metadata": {
        "id": "IqY0vrBLWRxR"
      }
    },
    {
      "cell_type": "code",
      "source": [
        "import pandas as pd"
      ],
      "metadata": {
        "id": "Lt5qF6bwWVcr"
      },
      "execution_count": null,
      "outputs": []
    },
    {
      "cell_type": "code",
      "source": [
        "df = pd.read_csv('/content/Practica_2/data/NISPUF17.csv')\n"
      ],
      "metadata": {
        "id": "pgrAl9yUWatV"
      },
      "execution_count": null,
      "outputs": []
    },
    {
      "cell_type": "code",
      "source": [
        "#determinamos que columna CBF_01 en su parámetro 1\n",
        "set(df['CBF_01'])"
      ],
      "metadata": {
        "colab": {
          "base_uri": "https://localhost:8080/"
        },
        "id": "vAu0sxDYYiRb",
        "outputId": "1f1e2a75-c4c5-4257-965a-febe4e3e108d"
      },
      "execution_count": null,
      "outputs": [
        {
          "output_type": "execute_result",
          "data": {
            "text/plain": [
              "{1, 2, 77, 99}"
            ]
          },
          "metadata": {},
          "execution_count": 13
        }
      ]
    },
    {
      "cell_type": "markdown",
      "source": [
        "Recibieron leche materna"
      ],
      "metadata": {
        "id": "XhQaH4_DJFci"
      }
    },
    {
      "cell_type": "code",
      "source": [
        "dfc1 =df[df['CBF_01'] == 1]\n",
        "len(dfc1)"
      ],
      "metadata": {
        "colab": {
          "base_uri": "https://localhost:8080/"
        },
        "id": "cYL-oU7yeFdH",
        "outputId": "3286eb45-8d18-4ec8-94ab-2cde565e5187"
      },
      "execution_count": null,
      "outputs": [
        {
          "output_type": "execute_result",
          "data": {
            "text/plain": [
              "24261"
            ]
          },
          "metadata": {},
          "execution_count": 14
        }
      ]
    },
    {
      "cell_type": "code",
      "source": [
        "relacion_1= dfc1['P_NUMFLU'].mean()\n",
        "relacion_1"
      ],
      "metadata": {
        "colab": {
          "base_uri": "https://localhost:8080/"
        },
        "id": "z1fjL_l8Zd_Y",
        "outputId": "e0838cb0-01b1-426e-e8b6-af19afec1e0f"
      },
      "execution_count": null,
      "outputs": [
        {
          "output_type": "execute_result",
          "data": {
            "text/plain": [
              "1.8799187420058687"
            ]
          },
          "metadata": {},
          "execution_count": 15
        }
      ]
    },
    {
      "cell_type": "markdown",
      "source": [
        "No recibieron leche materna"
      ],
      "metadata": {
        "id": "c9K5xQeXJKgt"
      }
    },
    {
      "cell_type": "code",
      "source": [
        "dfc2 =df[df['CBF_01'] == 2]\n",
        "len(dfc2)"
      ],
      "metadata": {
        "id": "tQKuy-STJP7n",
        "colab": {
          "base_uri": "https://localhost:8080/"
        },
        "outputId": "05a20c8e-21fe-486e-f65a-b5cf3f2b53f5"
      },
      "execution_count": null,
      "outputs": [
        {
          "output_type": "execute_result",
          "data": {
            "text/plain": [
              "4085"
            ]
          },
          "metadata": {},
          "execution_count": 16
        }
      ]
    },
    {
      "cell_type": "code",
      "source": [
        "relacion_2= dfc2['P_NUMFLU'].mean()\n",
        "relacion_2"
      ],
      "metadata": {
        "colab": {
          "base_uri": "https://localhost:8080/"
        },
        "id": "mifwsQh4JgXv",
        "outputId": "ec7b2245-1786-4632-d02b-9d220019275b"
      },
      "execution_count": null,
      "outputs": [
        {
          "output_type": "execute_result",
          "data": {
            "text/plain": [
              "1.5963945918878317"
            ]
          },
          "metadata": {},
          "execution_count": 17
        }
      ]
    },
    {
      "cell_type": "code",
      "source": [
        "#Creación del diccionario\n",
        "def average_influenza_doses():\n",
        "  resultados = {\"con_leche_materna\": relacion_1,\n",
        "     \"sin_leche_materna\": relacion_2}\n",
        "  return resultados\n",
        "\n",
        "average_influenza_doses()"
      ],
      "metadata": {
        "id": "1-deAMGDLjL3",
        "colab": {
          "base_uri": "https://localhost:8080/"
        },
        "outputId": "75802171-da14-4557-e65c-b0a5b0ca57fb"
      },
      "execution_count": null,
      "outputs": [
        {
          "output_type": "execute_result",
          "data": {
            "text/plain": [
              "{'con_leche_materna': 1.8799187420058687,\n",
              " 'sin_leche_materna': 1.5963945918878317}"
            ]
          },
          "metadata": {},
          "execution_count": 18
        }
      ]
    },
    {
      "cell_type": "markdown",
      "source": [
        "## **TERCERA PREGUNTA**"
      ],
      "metadata": {
        "id": "VLHQQNj8LW2D"
      }
    },
    {
      "cell_type": "code",
      "source": [
        "set(df['HAD_CPOX'])"
      ],
      "metadata": {
        "id": "RZmUhOH_OjFR",
        "colab": {
          "base_uri": "https://localhost:8080/"
        },
        "outputId": "442ee183-99f6-4886-acee-ae5e9fed41bd"
      },
      "execution_count": null,
      "outputs": [
        {
          "output_type": "execute_result",
          "data": {
            "text/plain": [
              "{1, 2, 77, 99}"
            ]
          },
          "metadata": {},
          "execution_count": 25
        }
      ]
    },
    {
      "cell_type": "code",
      "source": [
        "# total con varicela\n",
        "varicela = df[df['HAD_CPOX'] == 1]\n",
        "len(varicela)"
      ],
      "metadata": {
        "colab": {
          "base_uri": "https://localhost:8080/"
        },
        "id": "BSHY63XfuU6t",
        "outputId": "4ad71448-4a7e-4ece-c6d3-922a6c61fb05"
      },
      "execution_count": null,
      "outputs": [
        {
          "output_type": "execute_result",
          "data": {
            "text/plain": [
              "402"
            ]
          },
          "metadata": {},
          "execution_count": 46
        }
      ]
    },
    {
      "cell_type": "code",
      "source": [
        "# total sin varicela\n",
        "sin_varicela = df[df['HAD_CPOX'] == 2]\n",
        "len(sin_varicela)"
      ],
      "metadata": {
        "colab": {
          "base_uri": "https://localhost:8080/"
        },
        "id": "z6mDEy2M1u2t",
        "outputId": "fd7f9306-b8e2-4e63-e72b-d3ba175ad63b"
      },
      "execution_count": null,
      "outputs": [
        {
          "output_type": "execute_result",
          "data": {
            "text/plain": [
              "27955"
            ]
          },
          "metadata": {},
          "execution_count": 47
        }
      ]
    },
    {
      "cell_type": "code",
      "source": [
        "#total vacunados\n",
        "vacuna= varicela = df[df['P_NUMVRC'] >= 1]\n",
        "len(vacuna)"
      ],
      "metadata": {
        "colab": {
          "base_uri": "https://localhost:8080/"
        },
        "id": "gQuqLNavzRnJ",
        "outputId": "30ae1213-65ee-473c-9da2-ae45eac98eb6"
      },
      "execution_count": null,
      "outputs": [
        {
          "output_type": "execute_result",
          "data": {
            "text/plain": [
              "13995"
            ]
          },
          "metadata": {},
          "execution_count": 48
        }
      ]
    },
    {
      "cell_type": "code",
      "source": [
        "# Fueorn vacunados y contrageron varicela\n",
        "varicela_y_vacunados = varicela == vacuna\n",
        "len(varicela_y_vacunados)"
      ],
      "metadata": {
        "colab": {
          "base_uri": "https://localhost:8080/"
        },
        "id": "Lkoun50s0wAo",
        "outputId": "fe3a5944-6a18-4a11-9723-15e3493d7ef8"
      },
      "execution_count": null,
      "outputs": [
        {
          "output_type": "execute_result",
          "data": {
            "text/plain": [
              "13995"
            ]
          },
          "metadata": {},
          "execution_count": 49
        }
      ]
    },
    {
      "cell_type": "code",
      "source": [
        "# Fueron vacunados y no contrageron varicela\n",
        "sin_varicela_y_vacunados = sin_varicela == vacuna\n",
        "len(sin_varicela_y_vacunados)"
      ],
      "metadata": {
        "id": "xzu4KacC2Kck"
      },
      "execution_count": null,
      "outputs": []
    },
    {
      "cell_type": "code",
      "source": [
        "male =df[df['SEX'] == 1]\n",
        "len(sex)"
      ],
      "metadata": {
        "colab": {
          "base_uri": "https://localhost:8080/"
        },
        "id": "ceZFg8_9xLDW",
        "outputId": "c7d2bfa7-10e8-4113-805f-008558481dae"
      },
      "execution_count": null,
      "outputs": [
        {
          "output_type": "execute_result",
          "data": {
            "text/plain": [
              "14717"
            ]
          },
          "metadata": {},
          "execution_count": 23
        }
      ]
    },
    {
      "cell_type": "code",
      "source": [
        "female =df[df['SEX'] == 2]\n",
        "len(female)"
      ],
      "metadata": {
        "colab": {
          "base_uri": "https://localhost:8080/"
        },
        "id": "jyATsko0xg5z",
        "outputId": "d71a5d5e-2cc8-40b6-b8d0-02e60a0b15a3"
      },
      "execution_count": null,
      "outputs": [
        {
          "output_type": "execute_result",
          "data": {
            "text/plain": [
              "13748"
            ]
          },
          "metadata": {},
          "execution_count": 24
        }
      ]
    }
  ]
}