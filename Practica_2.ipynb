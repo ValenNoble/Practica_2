{
  "nbformat": 4,
  "nbformat_minor": 0,
  "metadata": {
    "colab": {
      "provenance": [],
      "authorship_tag": "ABX9TyMguVcnHQQNCHSh+ZxWnmui",
      "include_colab_link": true
    },
    "kernelspec": {
      "name": "python3",
      "display_name": "Python 3"
    },
    "language_info": {
      "name": "python"
    }
  },
  "cells": [
    {
      "cell_type": "markdown",
      "metadata": {
        "id": "view-in-github",
        "colab_type": "text"
      },
      "source": [
        "<a href=\"https://colab.research.google.com/github/ValenNoble/Practica_2/blob/main/Practica_2.ipynb\" target=\"_parent\"><img src=\"https://colab.research.google.com/assets/colab-badge.svg\" alt=\"Open In Colab\"/></a>"
      ]
    },
    {
      "cell_type": "markdown",
      "source": [
        "# **PRÁCTICA 2**\n",
        "Para esta tarea, veremos los datos de vacunas de 2017. El archivo con estos datos está en /data/NISPUF17.csv. Para conocer los nombres de las variables de los datos tienes disponible una guía de usuarios de datos en /data/NIS-PUF17-DUG.pdf.\n",
        "## Pregunta 1\n",
        "\n",
        "- Escribe una función llamada proportion_of_education que devuelva la proporción\n",
        "de niños en el dataset que tuvieron una madre con los niveles de educación: igual a menor de secundaria (<12), secundaria (12), mayor que secundaria pero sin ser universitaria graduada (>12) y con título universitario.\n",
        "Esta función debería devolver un diccionario\n",
        "\n",
        "##Pregunta 2\n",
        "- Exploremos la relación entre ser alimentado con leche materna (fed breast milk) cuando era niño y recibir una vacuna contra la influenza estacional (seasonal influenza) de un proveedor de atención médica.\n",
        "Devuelva una tupla del número promedio de vacunas contra la influenza para aquellos niños que sabemos que recibieron leche materna cuando eran niños y aquellos que sabemos que no.\n",
        "\n",
        "\n",
        "##Pregunta 3\n",
        "- Sería interesante ver si hay evidencia de un vínculo entre la efectividad de la vacuna y el sexo del niño. Calcule el ratio entre el número de niños que contrajeron varicela (chickenpox) pero que fueron vacunados contra ella (al menos una dosis) versus los que fueron vacunados y no contrajeron varicela.\n",
        "Devuelve los resultados por sexo.\n",
        "Esta función debería devolver un diccionario."
      ],
      "metadata": {
        "id": "CsftmaNDKWAV"
      }
    },
    {
      "cell_type": "code",
      "source": [
        "!git clone https://github.com/ValenNoble/Practica_2.git"
      ],
      "metadata": {
        "colab": {
          "base_uri": "https://localhost:8080/"
        },
        "id": "nZ9_iAyMtQ-Y",
        "outputId": "a9ee2ecc-79c6-4f81-a54a-4d0d9db590f3"
      },
      "execution_count": 1,
      "outputs": [
        {
          "output_type": "stream",
          "name": "stdout",
          "text": [
            "Cloning into 'Practica_2'...\n",
            "remote: Enumerating objects: 39, done.\u001b[K\n",
            "remote: Counting objects: 100% (39/39), done.\u001b[K\n",
            "remote: Compressing objects: 100% (36/36), done.\u001b[K\n",
            "remote: Total 39 (delta 15), reused 8 (delta 0), pack-reused 0\u001b[K\n",
            "Receiving objects: 100% (39/39), 6.03 MiB | 14.30 MiB/s, done.\n",
            "Resolving deltas: 100% (15/15), done.\n"
          ]
        }
      ]
    },
    {
      "cell_type": "code",
      "source": [
        "import pandas as pd\n",
        "df= pd.read_csv('/content/Practica_2/data/NISPUF17.csv')"
      ],
      "metadata": {
        "id": "qEBoYLgh2H5M"
      },
      "execution_count": 2,
      "outputs": []
    },
    {
      "cell_type": "markdown",
      "source": [
        "## **PREGUNTA 1**"
      ],
      "metadata": {
        "id": "kP_3UpqCKBuI"
      }
    },
    {
      "cell_type": "code",
      "source": [
        "total =len(df)"
      ],
      "metadata": {
        "id": "npvYrlS_J_WJ"
      },
      "execution_count": null,
      "outputs": []
    },
    {
      "cell_type": "code",
      "source": [
        "set(df['EDUC1'])"
      ],
      "metadata": {
        "colab": {
          "base_uri": "https://localhost:8080/"
        },
        "id": "WhG-5ZKOQpvh",
        "outputId": "8fe8553f-f1f6-4537-e700-b7d4d3d8a129"
      },
      "execution_count": null,
      "outputs": [
        {
          "output_type": "execute_result",
          "data": {
            "text/plain": [
              "{1, 2, 3, 4}"
            ]
          },
          "metadata": {},
          "execution_count": 5
        }
      ]
    },
    {
      "cell_type": "markdown",
      "source": [
        "PRIMER DATO"
      ],
      "metadata": {
        "id": "ERcCpRfYRB3V"
      }
    },
    {
      "cell_type": "code",
      "source": [
        "mother_education_level_1 = df[df['EDUC1']==1]\n",
        "cant_1 = len(mother_education_level_1)\n",
        "proporcion_niños_1 = cant_1 /total\n",
        "proporcion_niños_1"
      ],
      "metadata": {
        "id": "ZZX_o09pQBDE",
        "colab": {
          "base_uri": "https://localhost:8080/"
        },
        "outputId": "0568b240-938a-4b52-de92-51395f41361f"
      },
      "execution_count": null,
      "outputs": [
        {
          "output_type": "execute_result",
          "data": {
            "text/plain": [
              "0.10202002459160373"
            ]
          },
          "metadata": {},
          "execution_count": 6
        }
      ]
    },
    {
      "cell_type": "markdown",
      "source": [
        "SEGUNDO DATO"
      ],
      "metadata": {
        "id": "HrRT-O8ORvwU"
      }
    },
    {
      "cell_type": "code",
      "source": [
        "mother_education_level_2 = df[df['EDUC1'] == 2]\n",
        "cant_2 = len(mother_education_level_2)\n",
        "proporcion_niños_2 = cant_2 /total\n",
        "proporcion_niños_2"
      ],
      "metadata": {
        "id": "UChR9XmkR6Qe",
        "colab": {
          "base_uri": "https://localhost:8080/"
        },
        "outputId": "be7e12d3-f78e-47f5-8aee-1552f4ed480b"
      },
      "execution_count": null,
      "outputs": [
        {
          "output_type": "execute_result",
          "data": {
            "text/plain": [
              "0.172352011241876"
            ]
          },
          "metadata": {},
          "execution_count": 10
        }
      ]
    },
    {
      "cell_type": "markdown",
      "source": [
        "TERCER DATO"
      ],
      "metadata": {
        "id": "emsZCoMZE8_p"
      }
    },
    {
      "cell_type": "code",
      "source": [
        "mother_education_level_3 = df[df['EDUC1']==3]\n",
        "cant_3 = len(mother_education_level_3)\n",
        "proporcion_niños_3 = cant_3 /total\n",
        "proporcion_niños_3"
      ],
      "metadata": {
        "id": "KfInPqFhSrzO",
        "colab": {
          "base_uri": "https://localhost:8080/"
        },
        "outputId": "7c5545ee-db4e-494e-bbe2-94c379d391d6"
      },
      "execution_count": null,
      "outputs": [
        {
          "output_type": "execute_result",
          "data": {
            "text/plain": [
              "0.24588090637625154"
            ]
          },
          "metadata": {},
          "execution_count": 7
        }
      ]
    },
    {
      "cell_type": "markdown",
      "source": [
        "CUARTO DATO"
      ],
      "metadata": {
        "id": "WaksWsvAKkBE"
      }
    },
    {
      "cell_type": "code",
      "source": [
        "mother_education_level_4 = df[df['EDUC1']==4]\n",
        "cant_4 = len(mother_education_level_4)\n",
        "proporcion_niños_4 = cant_4 /total\n",
        "proporcion_niños_4"
      ],
      "metadata": {
        "id": "r_eyhzXUSuLW",
        "colab": {
          "base_uri": "https://localhost:8080/"
        },
        "outputId": "84a4b6ee-e464-4b5b-9cfe-d2e272e19900"
      },
      "execution_count": null,
      "outputs": [
        {
          "output_type": "execute_result",
          "data": {
            "text/plain": [
              "0.47974705779026877"
            ]
          },
          "metadata": {},
          "execution_count": 8
        }
      ]
    },
    {
      "cell_type": "code",
      "source": [
        "# Definición del diicionario\n",
        "def proportion_of_education():\n",
        "  resultado = {\"menor que secundaria\": proporcion_niños_1,\n",
        "          \"secundaria\": proporcion_niños_2,\n",
        "          \"terciaria\": proporcion_niños_3,\n",
        "          \"graduada\": proporcion_niños_4}\n",
        "  return resultado\n",
        "\n",
        "proportion_of_education()\n"
      ],
      "metadata": {
        "id": "svgHN2DjGkQR",
        "colab": {
          "base_uri": "https://localhost:8080/"
        },
        "outputId": "27330283-978c-4a61-87b0-93ad3a6ac361"
      },
      "execution_count": null,
      "outputs": [
        {
          "output_type": "execute_result",
          "data": {
            "text/plain": [
              "{'menor que secundaria': 0.10202002459160373,\n",
              " 'secundaria': 0.172352011241876,\n",
              " 'terciaria': 0.24588090637625154,\n",
              " 'graduada': 0.47974705779026877}"
            ]
          },
          "metadata": {},
          "execution_count": 11
        }
      ]
    },
    {
      "cell_type": "markdown",
      "source": [
        "## **PREGUTNA 2**"
      ],
      "metadata": {
        "id": "IqY0vrBLWRxR"
      }
    },
    {
      "cell_type": "code",
      "source": [
        "import pandas as pd"
      ],
      "metadata": {
        "id": "Lt5qF6bwWVcr"
      },
      "execution_count": null,
      "outputs": []
    },
    {
      "cell_type": "code",
      "source": [
        "df = pd.read_csv('/content/Practica_2/data/NISPUF17.csv')\n"
      ],
      "metadata": {
        "id": "pgrAl9yUWatV"
      },
      "execution_count": null,
      "outputs": []
    },
    {
      "cell_type": "code",
      "source": [
        "# determinamos que columna CBF_01 en su parámetro 1\n",
        "set(df['CBF_01'])"
      ],
      "metadata": {
        "colab": {
          "base_uri": "https://localhost:8080/"
        },
        "id": "vAu0sxDYYiRb",
        "outputId": "45536177-743a-4ae3-f838-87922d5a9161"
      },
      "execution_count": null,
      "outputs": [
        {
          "output_type": "execute_result",
          "data": {
            "text/plain": [
              "{1, 2, 77, 99}"
            ]
          },
          "metadata": {},
          "execution_count": 14
        }
      ]
    },
    {
      "cell_type": "markdown",
      "source": [
        "Recibieron leche materna"
      ],
      "metadata": {
        "id": "XhQaH4_DJFci"
      }
    },
    {
      "cell_type": "code",
      "source": [
        "dfc1 =df[df['CBF_01'] == 1]\n",
        "len(dfc1)"
      ],
      "metadata": {
        "colab": {
          "base_uri": "https://localhost:8080/"
        },
        "id": "cYL-oU7yeFdH",
        "outputId": "d66bef3e-5ea0-492a-ef5f-2119539a304b"
      },
      "execution_count": null,
      "outputs": [
        {
          "output_type": "execute_result",
          "data": {
            "text/plain": [
              "24261"
            ]
          },
          "metadata": {},
          "execution_count": 15
        }
      ]
    },
    {
      "cell_type": "code",
      "source": [
        "relacion_1= dfc1['P_NUMFLU'].mean()\n",
        "relacion_1"
      ],
      "metadata": {
        "colab": {
          "base_uri": "https://localhost:8080/"
        },
        "id": "z1fjL_l8Zd_Y",
        "outputId": "88875b1b-aef4-42b2-f6d8-5359c55475a8"
      },
      "execution_count": null,
      "outputs": [
        {
          "output_type": "execute_result",
          "data": {
            "text/plain": [
              "1.8799187420058687"
            ]
          },
          "metadata": {},
          "execution_count": 16
        }
      ]
    },
    {
      "cell_type": "markdown",
      "source": [
        "No recibieron leche materna"
      ],
      "metadata": {
        "id": "c9K5xQeXJKgt"
      }
    },
    {
      "cell_type": "code",
      "source": [
        "dfc2 =df[df['CBF_01'] == 2]\n",
        "len(dfc2)"
      ],
      "metadata": {
        "id": "tQKuy-STJP7n",
        "colab": {
          "base_uri": "https://localhost:8080/"
        },
        "outputId": "81eac0d2-b04a-4dae-e41a-55449fbd2a8c"
      },
      "execution_count": null,
      "outputs": [
        {
          "output_type": "execute_result",
          "data": {
            "text/plain": [
              "4085"
            ]
          },
          "metadata": {},
          "execution_count": 17
        }
      ]
    },
    {
      "cell_type": "code",
      "source": [
        "relacion_2= dfc2['P_NUMFLU'].mean()\n",
        "relacion_2"
      ],
      "metadata": {
        "colab": {
          "base_uri": "https://localhost:8080/"
        },
        "id": "mifwsQh4JgXv",
        "outputId": "b26734ca-3b3a-4427-cd66-fd0960e43f03"
      },
      "execution_count": null,
      "outputs": [
        {
          "output_type": "execute_result",
          "data": {
            "text/plain": [
              "1.5963945918878317"
            ]
          },
          "metadata": {},
          "execution_count": 18
        }
      ]
    },
    {
      "cell_type": "code",
      "source": [
        "#C reación del diccionario\n",
        "def average_influenza_doses():\n",
        "  resultados = {\"con_leche_materna\": relacion_1,\n",
        "     \"sin_leche_materna\": relacion_2}\n",
        "  return resultados\n",
        "\n",
        "average_influenza_doses()"
      ],
      "metadata": {
        "id": "1-deAMGDLjL3",
        "colab": {
          "base_uri": "https://localhost:8080/"
        },
        "outputId": "d4056626-6334-46f4-9d9f-9e3b2105ac89"
      },
      "execution_count": null,
      "outputs": [
        {
          "output_type": "execute_result",
          "data": {
            "text/plain": [
              "{'con_leche_materna': 1.8799187420058687,\n",
              " 'sin_leche_materna': 1.5963945918878317}"
            ]
          },
          "metadata": {},
          "execution_count": 19
        }
      ]
    },
    {
      "cell_type": "markdown",
      "source": [
        "## **TERCERA PREGUNTA**"
      ],
      "metadata": {
        "id": "VLHQQNj8LW2D"
      }
    },
    {
      "cell_type": "code",
      "source": [
        "set(df['HAD_CPOX'])"
      ],
      "metadata": {
        "id": "RZmUhOH_OjFR",
        "colab": {
          "base_uri": "https://localhost:8080/"
        },
        "outputId": "a7f90f7b-636f-4e82-b6c9-076d80df107c"
      },
      "execution_count": 3,
      "outputs": [
        {
          "output_type": "execute_result",
          "data": {
            "text/plain": [
              "{1, 2, 77, 99}"
            ]
          },
          "metadata": {},
          "execution_count": 3
        }
      ]
    },
    {
      "cell_type": "code",
      "source": [
        "# Vacunados y contrajeron varicela, vacunados y no contrajeron varicela\n",
        "vacunado_con_varicela = df[(df['P_NUMVRC'] >= 1) & (df['HAD_CPOX'] == 1)]\n",
        "vacunado_sin_varicela = df[(df['P_NUMVRC'] >= 1) & (df['HAD_CPOX'] == 2)]"
      ],
      "metadata": {
        "id": "Ynwf3660Bnr8"
      },
      "execution_count": 4,
      "outputs": []
    },
    {
      "cell_type": "code",
      "source": [
        "# Ratio para cada grupo\n",
        "ratio_male = len(vacunado_con_varicela[vacunado_con_varicela['SEX'] == 1]) / len(vacunado_sin_varicela[vacunado_sin_varicela['SEX'] == 1])\n",
        "ratio_female = len(vacunado_con_varicela[vacunado_con_varicela['SEX'] == 2]) / len(vacunado_sin_varicela[vacunado_sin_varicela['SEX'] == 2])"
      ],
      "metadata": {
        "id": "NxWAZ-P3-QMB"
      },
      "execution_count": 5,
      "outputs": []
    },
    {
      "cell_type": "code",
      "source": [
        "# Diccionario\n",
        "def chickenpox_by_sex():\n",
        "  resultados_varicela = {\"male\" : ratio_male,\n",
        "                         \"female\" : ratio_female}\n",
        "  return resultados_varicela\n",
        "\n",
        "chickenpox_by_sex()"
      ],
      "metadata": {
        "id": "cJ4ZnQ0UByvp",
        "colab": {
          "base_uri": "https://localhost:8080/"
        },
        "outputId": "fe6e0c38-20aa-4d28-eb47-9e637a08cdfc"
      },
      "execution_count": 6,
      "outputs": [
        {
          "output_type": "execute_result",
          "data": {
            "text/plain": [
              "{'male': 0.009675583380762664, 'female': 0.0077918259335489565}"
            ]
          },
          "metadata": {},
          "execution_count": 6
        }
      ]
    }
  ]
}